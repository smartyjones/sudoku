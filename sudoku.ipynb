{
  "nbformat": 4,
  "nbformat_minor": 0,
  "metadata": {
    "colab": {
      "provenance": [],
      "authorship_tag": "ABX9TyMz+TcczYrC2W2xLC5lZIps",
      "include_colab_link": true
    },
    "kernelspec": {
      "name": "python3",
      "display_name": "Python 3"
    },
    "language_info": {
      "name": "python"
    }
  },
  "cells": [
    {
      "cell_type": "markdown",
      "metadata": {
        "id": "view-in-github",
        "colab_type": "text"
      },
      "source": [
        "<a href=\"https://colab.research.google.com/github/smartyjones/sudoku/blob/main/sudoku.ipynb\" target=\"_parent\"><img src=\"https://colab.research.google.com/assets/colab-badge.svg\" alt=\"Open In Colab\"/></a>"
      ]
    },
    {
      "cell_type": "code",
      "execution_count": 25,
      "metadata": {
        "colab": {
          "base_uri": "https://localhost:8080/"
        },
        "id": "x8EBObGqtg8q",
        "outputId": "1d694946-1471-49f2-af31-1d39ad5c592c"
      },
      "outputs": [
        {
          "output_type": "stream",
          "name": "stdout",
          "text": [
            ".  .  3  5  .  .  4  2  .  \n",
            ".  .  7  .  .  .  9  1  .  \n",
            "5  2  .  .  .  7  .  .  .  \n",
            ".  3  5  9  2  6  .  .  1  \n",
            ".  .  .  .  .  .  3  4  .  \n",
            ".  .  .  .  7  .  2  5  6  \n",
            ".  .  9  .  .  .  .  .  .  \n",
            "6  .  2  .  .  4  .  .  8  \n",
            ".  5  .  .  .  .  7  .  4  \n"
          ]
        }
      ],
      "source": [
        "import argparse\n",
        "import json\n",
        "import array\n",
        "\n",
        "def setup_structure(d):\n",
        "  organized_data = {}\n",
        "  if len(d) == 81:\n",
        "    with open(\"sudoku-std.json\", 'r') as file:\n",
        "      s = json.load(file)\n",
        "  if len(d) == 153:\n",
        "    with open(\"sudoku-mix.json\", 'r') as file:\n",
        "      s = json.load(file)\n",
        "  for i in range(0, len(d)):\n",
        "    organized_data[i] = { \"complement\": '', \"insets\": '', \"finalvalue\": 0, \"pencil\": {1,2,3,4,5,6,7,8,9} }\n",
        "    c = set([])\n",
        "    insets = []\n",
        "    for j in s:\n",
        "      if i in j:\n",
        "        c = c | set(j)\n",
        "        insets.append(set(j))\n",
        "    c.remove(i)\n",
        "    organized_data[i][\"complement\"] = c\n",
        "    organized_data[i][\"insets\"] = insets\n",
        "\n",
        "def initialize_values(work, init):\n",
        "  for p in range(0, len(init)):\n",
        "    set_final(work,p,init[p])\n",
        "  return 0\n",
        "\n",
        "def set_final(organized_data,p,v):\n",
        "  if v != 0:\n",
        "    organized_data[p][\"finalvalue\"] = v\n",
        "    organized_data[p][\"pencil\"] = { v }\n",
        "    for c in organized_data[p][\"complement\"]:\n",
        "      penc = organized_data[c][\"pencil\"]\n",
        "      if v in penc:\n",
        "        penc.remove(v)\n",
        "        #print(\"removed from \", c, \"value \", v)\n",
        "      organized_data[c][\"pencil\"] = penc\n",
        "\n",
        "def pretty_print(d):\n",
        "  if len(d) == 81:\n",
        "    for y in range (0, 81, 9):\n",
        "      for x in range(0, 9):\n",
        "        print(d[x+y] if d[x+y] !=0 else \".\",  \" \", sep=\" \", end='')\n",
        "      print()\n",
        "  if len(d) == 153:\n",
        "    for y in range (0, 54, 9):\n",
        "      for x in range(0, 9):\n",
        "        print(d[x+y] if d[x+y] !=0 else \".\",  \"\", end='')\n",
        "      print()\n",
        "    for y in range (54, 99, 15):\n",
        "      for x in range(0, 15):\n",
        "        print(d[x+y] if d[x+y] !=0 else \".\",  \"\", end='')\n",
        "      print()\n",
        "    for y in range (99, 153, 9):\n",
        "      print(\"            \", end='')\n",
        "      for x in range(0, 9):\n",
        "        print(d[x+y] if d[x+y] !=0 else \".\",  \"\", end='')\n",
        "      print()\n",
        "  return\n",
        "\n",
        "def main():\n",
        "#  with open(\"easy.json\", 'r') as file:\n",
        "#  with open(\"medium.json\", 'r') as file:\n",
        "  with open(\"hard.json\", 'r') as file:\n",
        "    init = json.load(file)\n",
        "\n",
        "  pretty_print(init)\n",
        "\n",
        "#  work_data = setup_structure(init)\n",
        "#  initialize_values(work_data, init)\n",
        "#  pretty_print(init)\n",
        "\n",
        "\n",
        "if __name__ == '__main__':\n",
        "    main()\n"
      ]
    }
  ]
}