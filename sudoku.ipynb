{
  "nbformat": 4,
  "nbformat_minor": 0,
  "metadata": {
    "colab": {
      "provenance": [],
      "authorship_tag": "ABX9TyO1b2MQSN2ZRztaMCNai2+V",
      "include_colab_link": true
    },
    "kernelspec": {
      "name": "python3",
      "display_name": "Python 3"
    },
    "language_info": {
      "name": "python"
    }
  },
  "cells": [
    {
      "cell_type": "markdown",
      "metadata": {
        "id": "view-in-github",
        "colab_type": "text"
      },
      "source": [
        "<a href=\"https://colab.research.google.com/github/smartyjones/sudoku/blob/main/sudoku.ipynb\" target=\"_parent\"><img src=\"https://colab.research.google.com/assets/colab-badge.svg\" alt=\"Open In Colab\"/></a>"
      ]
    },
    {
      "cell_type": "code",
      "execution_count": 11,
      "metadata": {
        "colab": {
          "base_uri": "https://localhost:8080/"
        },
        "id": "x8EBObGqtg8q",
        "outputId": "fef18197-ee5b-4509-93b5-74d71965c82c"
      },
      "outputs": [
        {
          "output_type": "stream",
          "name": "stdout",
          "text": [
            "27\n"
          ]
        }
      ],
      "source": [
        "import argparse\n",
        "import json\n",
        "import array\n",
        "\n",
        "def pretty_print(d):\n",
        "  print(len(d))\n",
        "  if len(d) == 81:\n",
        "    for y in range (0, 81, 9):\n",
        "      for x in range(0, 9):\n",
        "        val=d[x+y][\"finalvalue\"]\n",
        "        print(val if val !=0 else \".\",  \" \", sep=\" \", end='')\n",
        "      print()\n",
        "  if len(d) == 153:\n",
        "    for y in range (0, 54, 9):\n",
        "      for x in range(0, 9):\n",
        "        val=d[x+y][\"finalvalue\"]\n",
        "        print(val if val !=0 else \".\",  \"\", end='')\n",
        "      print()\n",
        "    for y in range (54, 99, 15):\n",
        "      for x in range(0, 15):\n",
        "        val=d[x+y][\"finalvalue\"]\n",
        "        print(val if val !=0 else \".\",  \"\", end='')\n",
        "      print()\n",
        "    for y in range (99, 153, 9):\n",
        "      print(\"            \", end='')\n",
        "      for x in range(0, 9):\n",
        "        val=d[x+y][\"finalvalue\"]\n",
        "        print(val if val !=0 else \".\",  \"\", end='')\n",
        "      print()\n",
        "  return\n",
        "\n",
        "#def main():\n",
        "with open(\"sudoku-standard.json\", 'r') as file:\n",
        "  init = json.load(file)\n",
        "\n",
        "pretty_print(init)\n",
        "\n",
        "\n",
        "\n"
      ]
    }
  ]
}